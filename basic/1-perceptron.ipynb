{
 "cells": [
  {
   "cell_type": "markdown",
   "metadata": {},
   "source": [
    "## 퍼셉트론"
   ]
  },
  {
   "cell_type": "code",
   "execution_count": 1,
   "metadata": {},
   "outputs": [],
   "source": [
    "import numpy as np\n",
    "\n",
    "\n",
    "# AND 게이트\n",
    "def AND(x1, x2):\n",
    "    x = np.array([x1, x2])\n",
    "    w = np.array([0.5, 0.5])\n",
    "    b = -0.7\n",
    "\n",
    "    tmp = np.sum(w*x) + b\n",
    "    if tmp <= 0:\n",
    "        return 0\n",
    "    else:\n",
    "        return 1\n",
    "\n",
    "\n",
    "# NAND 게이트\n",
    "def NAND(x1, x2):\n",
    "    x = np.array([x1, x2])\n",
    "    w = np.array([-0.5, -0.5])\n",
    "    b = 0.7\n",
    "    tmp = np.sum(w*x) + b\n",
    "    if tmp <= 0:\n",
    "        return 0\n",
    "    else:\n",
    "        return 1\n",
    "\n",
    "# OR 게이트\n",
    "def OR(x1, x2):\n",
    "    x = np.array([x1, x2])\n",
    "    w = np.array([0.5, 0.5])\n",
    "    b = -0.2\n",
    "\n",
    "    tmp = np.sum(w*x) + b\n",
    "    if tmp <= 0:\n",
    "        return 0\n",
    "    else:\n",
    "        return 1\n",
    "\n",
    "# XOR 게이트 다층 퍼셉트론\n",
    "def XOR(x1, x2):\n",
    "    s1 = NAND(x1, x2)\n",
    "    s2 = OR(x1, x2)\n",
    "    y = AND(s1, s2)\n",
    "    return y"
   ]
  },
  {
   "cell_type": "code",
   "execution_count": 2,
   "metadata": {},
   "outputs": [
    {
     "name": "stdout",
     "output_type": "stream",
     "text": [
      "AND\n",
      "  (0, 0) -> 0\n",
      "  (1, 0) -> 0\n",
      "  (0, 1) -> 0\n",
      "  (1, 1) -> 1\n",
      "\n",
      "NAND\n",
      "  (0, 0) -> 1\n",
      "  (1, 0) -> 1\n",
      "  (0, 1) -> 1\n",
      "  (1, 1) -> 0\n",
      "\n",
      "OR\n",
      "  (0, 0) -> 0\n",
      "  (1, 0) -> 1\n",
      "  (0, 1) -> 1\n",
      "  (1, 1) -> 1\n",
      "\n",
      "XOR\n",
      "  (0, 0) -> 0\n",
      "  (1, 0) -> 1\n",
      "  (0, 1) -> 1\n",
      "  (1, 1) -> 0\n"
     ]
    }
   ],
   "source": [
    "inputs = [(0, 0), (1, 0), (0, 1), (1, 1)]\n",
    "\n",
    "print('AND')\n",
    "for x1, x2 in inputs:\n",
    "    y = AND(x1, x2)\n",
    "    print('  ({x1}, {x2}) -> {y}'.format(x1=x1, x2=x2, y=y))\n",
    "\n",
    "print('\\nNAND')\n",
    "for x1, x2 in inputs:\n",
    "    y = NAND(x1, x2)\n",
    "    print('  ({x1}, {x2}) -> {y}'.format(x1=x1, x2=x2, y=y))\n",
    "\n",
    "print('\\nOR')\n",
    "for x1, x2 in inputs:\n",
    "    y = OR(x1, x2)\n",
    "    print('  ({x1}, {x2}) -> {y}'.format(x1=x1, x2=x2, y=y))\n",
    "\n",
    "print('\\nXOR')\n",
    "for x1, x2 in inputs:\n",
    "    y = XOR(x1, x2)\n",
    "    print('  ({x1}, {x2}) -> {y}'.format(x1=x1, x2=x2, y=y))"
   ]
  },
  {
   "cell_type": "code",
   "execution_count": null,
   "metadata": {},
   "outputs": [],
   "source": []
  }
 ],
 "metadata": {
  "kernelspec": {
   "display_name": "Python 3",
   "language": "python",
   "name": "python3"
  },
  "language_info": {
   "codemirror_mode": {
    "name": "ipython",
    "version": 3
   },
   "file_extension": ".py",
   "mimetype": "text/x-python",
   "name": "python",
   "nbconvert_exporter": "python",
   "pygments_lexer": "ipython3",
   "version": "3.7.3"
  }
 },
 "nbformat": 4,
 "nbformat_minor": 2
}
