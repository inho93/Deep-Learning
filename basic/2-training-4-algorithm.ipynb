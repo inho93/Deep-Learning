{
 "cells": [
  {
   "cell_type": "markdown",
   "metadata": {},
   "source": [
    "## 미니배치 학습 알고리즘 구현"
   ]
  },
  {
   "cell_type": "markdown",
   "metadata": {},
   "source": [
    "#### 헤더 및 함수 선언부"
   ]
  },
  {
   "cell_type": "code",
   "execution_count": 2,
   "metadata": {},
   "outputs": [],
   "source": [
    "import sys, os\n",
    "sys.path.append(os.pardir)\n",
    "import numpy as np\n",
    "\n",
    "# 교차 엔트로피 오차 CEE(Cross Entropy Error)\n",
    "# label의 값이 one_hot encoding일 때만 사용이 가능.\n",
    "def cross_entropy_error(t, y):\n",
    "    delta = 1e-7 # log 0을 막기위해    \n",
    "    cost = -np.sum(t*np.log(y+delta))\n",
    "    return cost\n",
    "\n",
    "# 미니배치 교차 엔트로피 오차 CEE(Cross Entropy Error)\n",
    "# 기존 CEE에서 행렬 처리랑 평균값 계산만 추가한거\n",
    "def cross_entropy_error_avg(t, y):\n",
    "    batch_size = y.shape[0]\n",
    "    cost = 0\n",
    "    if batch_size == 1:        \n",
    "        return cross_entropy_error(t, y)\n",
    "    else:\n",
    "        for idx in range(0, batch_size):\n",
    "            cost += cross_entropy_error(t[idx], y[idx])/batch_size\n",
    "        return cost\n",
    "    \n",
    "def numerical_gradient_no_batch(f, x):\n",
    "    \n",
    "\n",
    "# 미분으로 기울기 산출\n",
    "def numerical_gradient(f, x):\n",
    "    h = 1e-4 # 0.0001\n",
    "    grad = np.zeros_like(x) # x와 똑같은 0행렬\n",
    "    if x.ndim == 1:    \n",
    "        return (f(x+h) - f(x-h))/2*h\n",
    "    else:\n",
    "        for idx, x in enumerate(x):\n",
    "            \n",
    "    \n",
    "def function_1(x):\n",
    "    return (x**2 + x)"
   ]
  },
  {
   "cell_type": "markdown",
   "metadata": {},
   "source": [
    "#### 구현부"
   ]
  },
  {
   "cell_type": "code",
   "execution_count": null,
   "metadata": {},
   "outputs": [],
   "source": []
  }
 ],
 "metadata": {
  "kernelspec": {
   "display_name": "Python 3",
   "language": "python",
   "name": "python3"
  },
  "language_info": {
   "codemirror_mode": {
    "name": "ipython",
    "version": 3
   },
   "file_extension": ".py",
   "mimetype": "text/x-python",
   "name": "python",
   "nbconvert_exporter": "python",
   "pygments_lexer": "ipython3",
   "version": "3.7.3"
  }
 },
 "nbformat": 4,
 "nbformat_minor": 2
}
